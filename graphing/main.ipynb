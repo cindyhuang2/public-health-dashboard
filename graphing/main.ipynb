{
 "cells": [
  {
   "cell_type": "markdown",
   "metadata": {},
   "source": [
    "wow"
   ]
  },
  {
   "cell_type": "code",
   "execution_count": 1,
   "metadata": {},
   "outputs": [
    {
     "name": "stdout",
     "output_type": "stream",
     "text": [
      "Requirement already satisfied: matplotlib in c:\\spartahack x\\public-health-dashboard\\.venv\\lib\\site-packages (3.10.0)\n",
      "Requirement already satisfied: contourpy>=1.0.1 in c:\\spartahack x\\public-health-dashboard\\.venv\\lib\\site-packages (from matplotlib) (1.3.1)\n",
      "Requirement already satisfied: cycler>=0.10 in c:\\spartahack x\\public-health-dashboard\\.venv\\lib\\site-packages (from matplotlib) (0.12.1)\n",
      "Requirement already satisfied: fonttools>=4.22.0 in c:\\spartahack x\\public-health-dashboard\\.venv\\lib\\site-packages (from matplotlib) (4.55.8)\n",
      "Requirement already satisfied: kiwisolver>=1.3.1 in c:\\spartahack x\\public-health-dashboard\\.venv\\lib\\site-packages (from matplotlib) (1.4.8)\n",
      "Requirement already satisfied: numpy>=1.23 in c:\\spartahack x\\public-health-dashboard\\.venv\\lib\\site-packages (from matplotlib) (2.2.2)\n",
      "Requirement already satisfied: packaging>=20.0 in c:\\spartahack x\\public-health-dashboard\\.venv\\lib\\site-packages (from matplotlib) (24.2)\n",
      "Requirement already satisfied: pillow>=8 in c:\\spartahack x\\public-health-dashboard\\.venv\\lib\\site-packages (from matplotlib) (11.1.0)\n",
      "Requirement already satisfied: pyparsing>=2.3.1 in c:\\spartahack x\\public-health-dashboard\\.venv\\lib\\site-packages (from matplotlib) (3.2.1)\n",
      "Requirement already satisfied: python-dateutil>=2.7 in c:\\spartahack x\\public-health-dashboard\\.venv\\lib\\site-packages (from matplotlib) (2.9.0.post0)\n",
      "Requirement already satisfied: six>=1.5 in c:\\spartahack x\\public-health-dashboard\\.venv\\lib\\site-packages (from python-dateutil>=2.7->matplotlib) (1.17.0)\n",
      "Note: you may need to restart the kernel to use updated packages.\n"
     ]
    }
   ],
   "source": [
    "%pip install matplotlib"
   ]
  },
  {
   "cell_type": "code",
   "execution_count": null,
   "metadata": {},
   "outputs": [],
   "source": [
    "import pandas as pd\n",
    "import matplotlib\n"
   ]
  },
  {
   "cell_type": "code",
   "execution_count": null,
   "metadata": {},
   "outputs": [],
   "source": [
    "\n",
    "\n",
    "#load csv file\n",
    "df = pd.read_csv(\"..//data//aids2025.csv\")\n",
    "#display some rows yk\n",
    "print(df.head())\n",
    "\n",
    "print(df.info())\n",
    "print(df.describe())\n",
    "\n",
    "#creating line graph ig\n",
    "\n",
    "#sorting by date\n",
    "df = df.sort_values(\"Response\")\n",
    "\n",
    "\n",
    "#counting responses\n",
    "response_counts = df[\"Response\"].value_counts()\n",
    "print(response_counts)\n"
   ]
  },
  {
   "cell_type": "code",
   "execution_count": 20,
   "metadata": {},
   "outputs": [
    {
     "name": "stdout",
     "output_type": "stream",
     "text": [
      "Response              No   Yes\n",
      "Break_Out_Category            \n",
      "Age Group           3498  3498\n",
      "Education Attained  2332  2332\n",
      "Gender              1166  1166\n",
      "Household Income    3233  3233\n",
      "Overall              605   605\n",
      "Race/Ethnicity      4345  4346\n",
      "       Year Locationabbr  Locationdesc     Class     Topic  \\\n",
      "7240   2021           MS   Mississippi  HIV-AIDS  HIV Test   \n",
      "16055  2018           NY      New York  HIV-AIDS  HIV Test   \n",
      "16040  2018           NM    New Mexico  HIV-AIDS  HIV Test   \n",
      "26680  2014           MT       Montana  HIV-AIDS  HIV Test   \n",
      "9601   2020           IL      Illinois  HIV-AIDS  HIV Test   \n",
      "...     ...          ...           ...       ...       ...   \n",
      "7819   2021           ND  North Dakota  HIV-AIDS  HIV Test   \n",
      "7817   2021           ND  North Dakota  HIV-AIDS  HIV Test   \n",
      "4286   2022           MS   Mississippi  HIV-AIDS  HIV Test   \n",
      "4284   2022           MS   Mississippi  HIV-AIDS  HIV Test   \n",
      "10119  2020           MN     Minnesota  HIV-AIDS  HIV Test   \n",
      "\n",
      "                                 Question Response  \\\n",
      "7240   Have you ever been tested for HIV?      Yes   \n",
      "16055  Have you ever been tested for HIV?       No   \n",
      "16040  Have you ever been tested for HIV?       No   \n",
      "26680  Have you ever been tested for HIV?      Yes   \n",
      "9601   Have you ever been tested for HIV?      Yes   \n",
      "...                                   ...      ...   \n",
      "7819   Have you ever been tested for HIV?       No   \n",
      "7817   Have you ever been tested for HIV?       No   \n",
      "4286   Have you ever been tested for HIV?      Yes   \n",
      "4284   Have you ever been tested for HIV?      Yes   \n",
      "10119  Have you ever been tested for HIV?       No   \n",
      "\n",
      "                                               Break_Out Break_Out_Category  \\\n",
      "7240                                               25-34          Age Group   \n",
      "16055                                              35-44          Age Group   \n",
      "16040                                              45-54          Age Group   \n",
      "26680                                              35-44          Age Group   \n",
      "9601                                               55-64          Age Group   \n",
      "...                                                  ...                ...   \n",
      "7819   Native Hawaiian or other Pacific Islander, non...     Race/Ethnicity   \n",
      "7817                                 Asian, non-Hispanic     Race/Ethnicity   \n",
      "4286   Native Hawaiian or other Pacific Islander, non...     Race/Ethnicity   \n",
      "4284                                 Asian, non-Hispanic     Race/Ethnicity   \n",
      "10119                          Multiracial, non-Hispanic     Race/Ethnicity   \n",
      "\n",
      "       Sample_Size  ...                                Data_Value_Footnote  \\\n",
      "7240           227  ...                                                NaN   \n",
      "16055         1188  ...                                                NaN   \n",
      "16040          523  ...                                                NaN   \n",
      "26680          337  ...                                                NaN   \n",
      "9601           165  ...                                                NaN   \n",
      "...            ...  ...                                                ...   \n",
      "7819             7  ...  Prevalence estimate not available if the unwei...   \n",
      "7817            34  ...  Prevalence estimate not available if the unwei...   \n",
      "4286             1  ...  Prevalence estimate not available if the unwei...   \n",
      "4284             3  ...  Prevalence estimate not available if the unwei...   \n",
      "10119          106  ...                                                NaN   \n",
      "\n",
      "       DataSource  ClassId  TopicId LocationID BreakoutID BreakOutCategoryID  \\\n",
      "7240        BRFSS  CLASS09  TOPIC32         28      AGE02               CAT3   \n",
      "16055       BRFSS  CLASS09  TOPIC32         36      AGE03               CAT3   \n",
      "16040       BRFSS  CLASS09  TOPIC32         35      AGE04               CAT3   \n",
      "26680       BRFSS  CLASS09  Topic32         30      AGE03               CAT3   \n",
      "9601        BRFSS  CLASS09  TOPIC32         17      AGE05               CAT3   \n",
      "...           ...      ...      ...        ...        ...                ...   \n",
      "7819        BRFSS  CLASS09  TOPIC32         38     RACE05               CAT4   \n",
      "7817        BRFSS  CLASS09  TOPIC32         38     RACE04               CAT4   \n",
      "4286        BRFSS  CLASS09  TOPIC32         28     RACE05               CAT4   \n",
      "4284        BRFSS  CLASS09  TOPIC32         28     RACE04               CAT4   \n",
      "10119       BRFSS  CLASS09  TOPIC32         27     RACE07               CAT4   \n",
      "\n",
      "      QuestionID ResponseID                                    GeoLocation  \n",
      "7240     HIVTST7    RESP046  POINT (-89.53803082499968 32.745510099000455)  \n",
      "16055    HIVTST6    RESP054   POINT (-75.54397042699964 42.82700103200045)  \n",
      "16040    HIVTST6    RESP054  POINT (-106.24058098499967 34.52088095200048)  \n",
      "26680    HIVTST6    RESP046            POINT (-109.424420645 47.066528972)  \n",
      "9601     HIVTST7    RESP046   POINT (-88.99771017799969 40.48501028300046)  \n",
      "...          ...        ...                                            ...  \n",
      "7819     HIVTST7    RESP054  POINT (-100.11842104899966 47.47531977900047)  \n",
      "7817     HIVTST7    RESP054  POINT (-100.11842104899966 47.47531977900047)  \n",
      "4286     HIVTST7    RESP046  POINT (-89.53803082499968 32.745510099000455)  \n",
      "4284     HIVTST7    RESP046  POINT (-89.53803082499968 32.745510099000455)  \n",
      "10119    HIVTST7    RESP054   POINT (-94.79420050299967 46.35564873600049)  \n",
      "\n",
      "[30359 rows x 27 columns]\n",
      "Response              No   Yes\n",
      "Break_Out_Category            \n",
      "Age Group           3498  3498\n",
      "Education Attained  2332  2332\n",
      "Gender              1166  1166\n",
      "Household Income    3233  3233\n",
      "Overall              605   605\n",
      "Race/Ethnicity      4345  4346\n"
     ]
    },
    {
     "ename": "NameError",
     "evalue": "name 'plt' is not defined",
     "output_type": "error",
     "traceback": [
      "\u001b[1;31m---------------------------------------------------------------------------\u001b[0m",
      "\u001b[1;31mNameError\u001b[0m                                 Traceback (most recent call last)",
      "Cell \u001b[1;32mIn[20], line 19\u001b[0m\n\u001b[0;32m     16\u001b[0m grouped_data\u001b[38;5;241m.\u001b[39mplot(kind\u001b[38;5;241m=\u001b[39m\u001b[38;5;124m'\u001b[39m\u001b[38;5;124mbar\u001b[39m\u001b[38;5;124m'\u001b[39m, figsize\u001b[38;5;241m=\u001b[39m(\u001b[38;5;241m10\u001b[39m,\u001b[38;5;241m6\u001b[39m), color\u001b[38;5;241m=\u001b[39m[\u001b[38;5;124m'\u001b[39m\u001b[38;5;124mred\u001b[39m\u001b[38;5;124m'\u001b[39m, \u001b[38;5;124m'\u001b[39m\u001b[38;5;124mblue\u001b[39m\u001b[38;5;124m'\u001b[39m])\n\u001b[0;32m     18\u001b[0m \u001b[38;5;66;03m# Labels and title\u001b[39;00m\n\u001b[1;32m---> 19\u001b[0m \u001b[43mplt\u001b[49m\u001b[38;5;241m.\u001b[39mxlabel(\u001b[38;5;124m\"\u001b[39m\u001b[38;5;124mBreakout Category\u001b[39m\u001b[38;5;124m\"\u001b[39m)\n\u001b[0;32m     20\u001b[0m plt\u001b[38;5;241m.\u001b[39mylabel(\u001b[38;5;124m\"\u001b[39m\u001b[38;5;124mResponse\u001b[39m\u001b[38;5;124m\"\u001b[39m)\n\u001b[0;32m     21\u001b[0m plt\u001b[38;5;241m.\u001b[39mtitle(\u001b[38;5;124m\"\u001b[39m\u001b[38;5;124mSurvey Responses by Breakout Category\u001b[39m\u001b[38;5;124m\"\u001b[39m)\n",
      "\u001b[1;31mNameError\u001b[0m: name 'plt' is not defined"
     ]
    },
    {
     "data": {
      "image/png": "[encoded data removed]",
      "text/plain": [
       "<Figure size 1000x600 with 1 Axes>"
      ]
     },
     "metadata": {},
     "output_type": "display_data"
    }
   ],
   "source": [
    "\n",
    "#grouping bar chart\n",
    "gender_response_counts = df.groupby(['Break_Out_Category', 'Response']).size().unstack(fill_value=0)\n",
    "print(gender_response_counts)\n",
    "\n",
    "df.columns = df.columns.str.strip()\n",
    "\n",
    "df_sorted = df.sort_values(by='Break_Out_Category')\n",
    "print(df_sorted)\n",
    "\n",
    "#group by category\n",
    "grouped_data = df.groupby(['Break_Out_Category', 'Response']).size().unstack(fill_value=0 )\n",
    "\n",
    "print(grouped_data)\n",
    "\n",
    "# Group by 'Breakout Category' and 'Response', then plot a bar chart\n",
    "grouped_data.plot(kind='bar', figsize=(10,6), color=['red', 'blue'])\n",
    "\n",
    "# Labels and title\n",
    "plt.xlabel(\"Breakout Category\")\n",
    "plt.ylabel(\"Response\")\n",
    "plt.title(\"Survey Responses by Breakout Category\")\n",
    "plt.xticks(rotation=0)\n",
    "\n",
    "# Show the plot\n",
    "plt.show()\n"
   ]
  }
 ],
 "metadata": {
  "kernelspec": {
   "display_name": ".venv",
   "language": "python",
   "name": "python3"
  },
  "language_info": {
   "codemirror_mode": {
    "name": "ipython",
    "version": 3
   },
   "file_extension": ".py",
   "mimetype": "text/x-python",
   "name": "python",
   "nbconvert_exporter": "python",
   "pygments_lexer": "ipython3",
   "version": "3.11.9"
  }
 },
 "nbformat": 4,
 "nbformat_minor": 2
}
